{
 "cells": [
  {
   "cell_type": "code",
   "execution_count": 1,
   "id": "c85962da",
   "metadata": {},
   "outputs": [],
   "source": [
    "\"\"\"\n",
    "Function to load weight to spesific models\n",
    "\"\"\"\n",
    "def backbone_load(model,model_weight,keys=['input_conv','unet','offset_linear', 'output_layer', 'semantic_linear']):\n",
    "    processed_dict = {}\n",
    "    for k in net_weighth.keys(): \n",
    "        decomposed_key = k.split(\".\")[0]\n",
    "        if(decomposed_key in keys):\n",
    "            processed_dict[k] = net_weighth[k] \n",
    "    model_dict = model.state_dict()\n",
    "    model_dict.update(model_weight)\n",
    "    model.load_state_dict(model_dict)\n",
    "    return model"
   ]
  },
  {
   "cell_type": "code",
   "execution_count": 2,
   "id": "1d109e67",
   "metadata": {},
   "outputs": [],
   "source": [
    "import torch\n",
    "import pandas\n",
    "from model.softgroup import SoftGroup\n",
    "import yaml\n",
    "from munch import Munch\n",
    "import os\n",
    "os.environ[\"CUDA_VISIBLE_DEVICES\"]=\"1\""
   ]
  },
  {
   "cell_type": "code",
   "execution_count": 3,
   "id": "712f00e4",
   "metadata": {},
   "outputs": [
    {
     "name": "stdout",
     "output_type": "stream",
     "text": [
      "\n"
     ]
    }
   ],
   "source": [
    "!echo $SPCONV_SAVED_WEIGHT_LAYOUT"
   ]
  },
  {
   "cell_type": "code",
   "execution_count": 4,
   "id": "1164984f",
   "metadata": {},
   "outputs": [
    {
     "data": {
      "text/plain": [
       "0"
      ]
     },
     "execution_count": 4,
     "metadata": {},
     "output_type": "execute_result"
    }
   ],
   "source": [
    "torch.cuda.current_device()"
   ]
  },
  {
   "cell_type": "code",
   "execution_count": 5,
   "id": "f3e984bb",
   "metadata": {},
   "outputs": [],
   "source": [
    "# torch.load('tensors.pt', map_location=torch.device('cpu'))\n",
    "data = torch.load(\"softgroup_stpls3d_spconv2.pth\")\n",
    "net_weighth= data[\"net\"]"
   ]
  },
  {
   "cell_type": "code",
   "execution_count": 6,
   "id": "0760cc99",
   "metadata": {},
   "outputs": [],
   "source": [
    "cfg_txt = open(\"configs/training_backbone/backbone_ASPP_DICELOSS.yaml\", 'r').read()\n",
    "cfg = Munch.fromDict(yaml.safe_load(cfg_txt))"
   ]
  },
  {
   "cell_type": "code",
   "execution_count": 7,
   "id": "abc3b86d",
   "metadata": {},
   "outputs": [],
   "source": [
    "model = SoftGroup(**cfg.model).cuda()"
   ]
  },
  {
   "cell_type": "code",
   "execution_count": null,
   "id": "9b0a71bf",
   "metadata": {},
   "outputs": [],
   "source": [
    "# model = backbone_load(model,net_weighth)\n"
   ]
  },
  {
   "cell_type": "code",
   "execution_count": 11,
   "id": "e3e9721b",
   "metadata": {},
   "outputs": [
    {
     "data": {
      "text/plain": [
       "True"
      ]
     },
     "execution_count": 11,
     "metadata": {},
     "output_type": "execute_result"
    }
   ],
   "source": [
    "model.is_DICELOSS"
   ]
  },
  {
   "cell_type": "code",
   "execution_count": null,
   "id": "9367c06e",
   "metadata": {},
   "outputs": [],
   "source": [
    "from data import build_dataloader, build_dataset\n",
    "from evaluation import (ScanNetEval, evaluate_offset_mae, evaluate_semantic_acc,\n",
    "                                  evaluate_semantic_miou)\n",
    "from model import SoftGroup\n",
    "from util import (AverageMeter, SummaryWriter, build_optimizer, checkpoint_save,\n",
    "                  collect_results_gpu, cosine_lr_after_step, get_dist_info,\n",
    "                  get_max_memory, get_root_logger, init_dist, is_main_process,\n",
    "                  is_multiple, is_power2, load_checkpoint)"
   ]
  },
  {
   "cell_type": "code",
   "execution_count": null,
   "id": "1ed2b4f6",
   "metadata": {},
   "outputs": [],
   "source": [
    "import os.path as osp\n",
    "import os\n",
    "import time\n",
    "cfg.work_dir = osp.join('./work_dirs', osp.splitext(osp.basename(\"test\"))[0])\n",
    "os.makedirs(osp.abspath(cfg.work_dir), exist_ok=True)\n",
    "timestamp = time.strftime('%Y%m%d_%H%M%S', time.localtime())\n",
    "log_file = osp.join(cfg.work_dir, f'{timestamp}.log')\n",
    "logger = get_root_logger(log_file=log_file)\n",
    "logger.info(f'Config:\\n{cfg_txt}')\n",
    "# logger.info(f'Distributed: {args.dist}')\n",
    "# logger.info(f'Mix precision training: {cfg.fp16}')\n",
    "# shutil.copy(args.config, osp.join(cfg.work_dir, osp.basename(args.config)))\n",
    "writer = SummaryWriter(cfg.work_dir)\n"
   ]
  },
  {
   "cell_type": "code",
   "execution_count": null,
   "id": "818aa5fc",
   "metadata": {},
   "outputs": [],
   "source": [
    "# train_set = build_dataset(cfg.data.train, logger)\n",
    "# val_set = build_dataset(cfg.data.test, logger)\n",
    "# train_loader = build_dataloader(\n",
    "# train_set, training=True, dist=False, **cfg.dataloader.train)\n",
    "# # for batch in train_loader:\n",
    "# #     data_batch = batch\n",
    "# #     break\n",
    "# # torch.save(data_batch, 'dummy_data.pth')"
   ]
  },
  {
   "cell_type": "code",
   "execution_count": null,
   "id": "7cc9e800",
   "metadata": {},
   "outputs": [],
   "source": []
  },
  {
   "cell_type": "code",
   "execution_count": 8,
   "id": "e4f053c2",
   "metadata": {},
   "outputs": [],
   "source": [
    "data = torch.load(\"dummy_data.pth\",map_location=\"cuda:0\")\n",
    "data_test = torch.load(\"dummy_data_test.pth\",map_location=\"cuda:0\")"
   ]
  },
  {
   "cell_type": "code",
   "execution_count": 11,
   "id": "31669e93",
   "metadata": {},
   "outputs": [
    {
     "data": {
      "text/plain": [
       "tensor([[ 30.5439,   9.3444,   0.8462],\n",
       "        [ 30.9186,   9.7945,   1.0418],\n",
       "        [ 31.2391,   9.8502,   1.0683],\n",
       "        ...,\n",
       "        [  3.5641, -26.4289,   5.5817],\n",
       "        [  3.2307, -26.3940,   5.5394],\n",
       "        [  3.8095, -26.3695,   6.3030]], device='cuda:0')"
      ]
     },
     "execution_count": 11,
     "metadata": {},
     "output_type": "execute_result"
    }
   ],
   "source": [
    "data[\"coords_float\"]"
   ]
  },
  {
   "cell_type": "code",
   "execution_count": 12,
   "id": "1aa1b620",
   "metadata": {},
   "outputs": [],
   "source": [
    "feat = data[\"coords_float\"]"
   ]
  },
  {
   "cell_type": "code",
   "execution_count": null,
   "id": "39fc1352",
   "metadata": {},
   "outputs": [],
   "source": [
    "# import spconv.pytorch as spconv\n",
    "from lib.softgroup_ops import functions as softgroup_ops\n",
    "import torch.nn.functional as F"
   ]
  },
  {
   "cell_type": "code",
   "execution_count": null,
   "id": "5b87aa9f",
   "metadata": {},
   "outputs": [],
   "source": [
    " # def forward_test(self, batch_idxs, voxel_coords, p2v_map, v2p_map, coords_float, feats,\n",
    " #                     semantic_labels, instance_labels, pt_offset_labels, spatial_shape, batch_size,\n",
    " #                     scan_ids, **kwargs):\n",
    "color_feats = data_test[\"feats\"]\n",
    "if model.with_coords:\n",
    "    feats = torch.cat((data[\"feats\"], data_test[\"coords_float\"]), 1)\n",
    "voxel_feats = softgroup_ops.voxelization(data_test[\"feats\"], data_test[\"p2v_map\"])\n",
    "input_buff = spconv.SparseConvTensor(voxel_feats, data_test[\"voxel_coords\"].int(), data_test[\"spatial_shape\"], data_test[\"batch_size\"])\n",
    "semantic_scores, pt_offsets, output_feats = model.forward_backbone(input_buff, data_test[\"v2p_map\"])\n",
    "semantic_preds = semantic_scores.max(1)[1]\n",
    "ret = dict(\n",
    "            scan_id=data_test[\"scan_ids\"][0],\n",
    "            coords_float=data_test[\"coords_float\"].cpu().numpy(),\n",
    "            color_feats=color_feats.cpu().numpy(),\n",
    "            semantic_preds=semantic_preds.cpu().numpy(),\n",
    "            semantic_labels=data_test[\"semantic_labels\"].cpu().numpy(),\n",
    "            offset_preds=pt_offsets.cpu().detach().numpy(),\n",
    "            offset_labels=data_test[\"pt_offset_labels\"].cpu().numpy(),\n",
    "            instance_labels=data_test[\"instance_labels\"].cpu().numpy())\n",
    "\n",
    "proposals_idx, proposals_offset = model.forward_grouping(semantic_scores, pt_offsets,\n",
    "                                                        data_test['batch_idxs'], data_test[\"coords_float\"],\n",
    "                                                        model.grouping_cfg)\n",
    "inst_feats, inst_map = model.clusters_voxelization(proposals_idx, proposals_offset,\n",
    "                                                  output_feats, data_test[\"coords_float\"],\n",
    "                                                  **model.instance_voxel_cfg)\n",
    "_, cls_scores, iou_scores, mask_scores = model.forward_instance(inst_feats, inst_map)\n",
    "# pred_instances = self.get_instances(scan_ids[0], proposals_idx, semantic_scores,\n",
    "#                                     cls_scores, iou_scores, mask_scores)\n",
    "# gt_instances = self.get_gt_instances(semantic_labels, instance_labels)\n",
    "# ret.update(dict(pred_instances=pred_instances, gt_instances=gt_instances))\n"
   ]
  },
  {
   "cell_type": "code",
   "execution_count": null,
   "id": "586ba965",
   "metadata": {},
   "outputs": [],
   "source": [
    "# def get_instances(self, scan_id, proposals_idx, semantic_scores, cls_scores, iou_scores,\n",
    " #                   mask_scores):\n",
    "num_instances = cls_scores.size(0)\n",
    "num_points = semantic_scores.size(0)\n",
    "cls_scores = cls_scores.softmax(1)\n",
    "semantic_pred = semantic_scores.max(1)[1]\n",
    "cls_pred_list, score_pred_list, mask_pred_list = [], [], []"
   ]
  },
  {
   "cell_type": "code",
   "execution_count": null,
   "id": "10389b94",
   "metadata": {},
   "outputs": [],
   "source": [
    "for i in range(model.instance_classes):\n",
    "    cls_pred = cls_scores.new_full((num_instances, ), i + 1, dtype=torch.long)\n",
    "    cur_cls_scores = cls_scores[:, i]\n",
    "    cur_iou_scores = iou_scores[:, i]\n",
    "    cur_mask_scores = mask_scores[:, i]\n",
    "    score_pred = cur_cls_scores * cur_iou_scores.clamp(0, 1)\n",
    "    mask_pred = torch.zeros((num_instances, num_points), dtype=torch.int, device='cuda')\n",
    "    mask_inds = cur_mask_scores > model.test_cfg.mask_score_thr\n",
    "    cur_proposals_idx = proposals_idx[mask_inds].long()\n",
    "    mask_pred[cur_proposals_idx[:, 0], cur_proposals_idx[:, 1]] = 1\n",
    "\n",
    "    # filter low score instance\n",
    "    inds = cur_cls_scores > model.test_cfg.cls_score_thr\n",
    "    cls_pred = cls_pred[inds]\n",
    "    score_pred = score_pred[inds]\n",
    "    mask_pred = mask_pred[inds]\n",
    "\n",
    "    # filter too small instances\n",
    "    npoint = mask_pred.sum(1)\n",
    "    inds = npoint >= model.test_cfg.min_npoint\n",
    "    cls_pred = cls_pred[inds]\n",
    "    score_pred = score_pred[inds]\n",
    "    mask_pred = mask_pred[inds]\n",
    "    cls_pred_list.append(cls_pred)\n",
    "    score_pred_list.append(score_pred)\n",
    "    mask_pred_list.append(mask_pred)\n",
    "    \n",
    "\n",
    "# return instances"
   ]
  },
  {
   "cell_type": "code",
   "execution_count": null,
   "id": "1f696e35",
   "metadata": {},
   "outputs": [],
   "source": [
    "cls_pred = torch.cat(cls_pred_list).cpu().numpy()\n",
    "score_pred = torch.cat(score_pred_list).cpu().detach().numpy()\n",
    "mask_pred = torch.cat(mask_pred_list).cpu().numpy()\n"
   ]
  },
  {
   "cell_type": "code",
   "execution_count": null,
   "id": "31a3e622",
   "metadata": {},
   "outputs": [],
   "source": [
    "score_pred"
   ]
  },
  {
   "cell_type": "code",
   "execution_count": null,
   "id": "f7d9a527",
   "metadata": {},
   "outputs": [],
   "source": [
    "mask_pred.shape"
   ]
  },
  {
   "cell_type": "code",
   "execution_count": null,
   "id": "2b721a48",
   "metadata": {},
   "outputs": [],
   "source": [
    "\n",
    "instances = []\n",
    "for i in range(cls_pred.shape[0]):\n",
    "    pred = {}\n",
    "    pred['scan_id'] = scan_id\n",
    "    pred['label_id'] = cls_pred[i]\n",
    "    pred['conf'] = score_pred[i]\n",
    "    # rle encode mask to save memory\n",
    "    pred['pred_mask'] = rle_encode(mask_pred[i])\n",
    "    instances.append(pred)"
   ]
  },
  {
   "cell_type": "code",
   "execution_count": null,
   "id": "a20cd858",
   "metadata": {},
   "outputs": [],
   "source": [
    "score_pred.shape"
   ]
  },
  {
   "cell_type": "code",
   "execution_count": null,
   "id": "98b22322",
   "metadata": {},
   "outputs": [],
   "source": []
  }
 ],
 "metadata": {
  "kernelspec": {
   "display_name": "Python 3 (ipykernel)",
   "language": "python",
   "name": "python3"
  },
  "language_info": {
   "codemirror_mode": {
    "name": "ipython",
    "version": 3
   },
   "file_extension": ".py",
   "mimetype": "text/x-python",
   "name": "python",
   "nbconvert_exporter": "python",
   "pygments_lexer": "ipython3",
   "version": "3.8.12"
  },
  "widgets": {
   "application/vnd.jupyter.widget-state+json": {
    "state": {},
    "version_major": 2,
    "version_minor": 0
   }
  }
 },
 "nbformat": 4,
 "nbformat_minor": 5
}
