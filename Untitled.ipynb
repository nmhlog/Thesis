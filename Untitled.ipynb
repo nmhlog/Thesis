{
 "cells": [
  {
   "cell_type": "code",
   "execution_count": 1,
   "id": "48206f34",
   "metadata": {},
   "outputs": [],
   "source": [
    "import yaml\n",
    "from munch import Munch\n",
    "import pprint\n",
    "\n",
    "cfg_txt = open(\"configs/test.yaml\", 'r').read()\n",
    "cfg_txt = open(\"configs/softgroup_stpls3d.yaml\", 'r').read()\n",
    "cfg = Munch.fromDict(yaml.safe_load(cfg_txt))"
   ]
  },
  {
   "cell_type": "code",
   "execution_count": 18,
   "id": "e8a547ec",
   "metadata": {},
   "outputs": [
    {
     "name": "stdout",
     "output_type": "stream",
     "text": [
      "{   'data': {   'test': {   'data_root': 'dataset/stpls3d',\n",
      "                            'prefix': 'val',\n",
      "                            'suffix': '_inst_nostuff.pth',\n",
      "                            'training': False,\n",
      "                            'type': 'stpls3d',\n",
      "                            'voxel_cfg': {   'max_npoint': 250000,\n",
      "                                             'min_npoint': 5000,\n",
      "                                             'scale': 3,\n",
      "                                             'spatial_shape': [128, 512]}},\n",
      "                'train': {   'data_root': 'dataset/stpls3d',\n",
      "                             'prefix': 'train',\n",
      "                             'repeat': 4,\n",
      "                             'suffix': '_inst_nostuff.pth',\n",
      "                             'training': True,\n",
      "                             'type': 'stpls3d',\n",
      "                             'voxel_cfg': {   'max_npoint': 250000,\n",
      "                                              'min_npoint': 5000,\n",
      "                                              'scale': 3,\n",
      "                                              'spatial_shape': [128, 512]}}},\n",
      "    'dataloader': {   'test': Munch({'batch_size': 1, 'num_workers': 1}),\n",
      "                      'train': Munch({'batch_size': 4, 'num_workers': 4})},\n",
      "    'epochs': 108,\n",
      "    'eval_min_npoint': 10,\n",
      "    'fp16': False,\n",
      "    'model': {   'channels': 16,\n",
      "                 'fixed_modules': [],\n",
      "                 'grouping_cfg': {   'class_numpoint_mean': [   -1.0,\n",
      "                                                                10408.0,\n",
      "                                                                58.0,\n",
      "                                                                124.0,\n",
      "                                                                1351.0,\n",
      "                                                                162.0,\n",
      "                                                                430.0,\n",
      "                                                                1090.0,\n",
      "                                                                451.0,\n",
      "                                                                26.0,\n",
      "                                                                43.0,\n",
      "                                                                61.0,\n",
      "                                                                39.0,\n",
      "                                                                109.0,\n",
      "                                                                1239],\n",
      "                                     'ignore_classes': [0],\n",
      "                                     'mean_active': 3,\n",
      "                                     'npoint_thr': 0.05,\n",
      "                                     'radius': 0.9,\n",
      "                                     'score_thr': 0.2},\n",
      "                 'ignore_label': -100,\n",
      "                 'instance_classes': 14,\n",
      "                 'instance_voxel_cfg': Munch({'scale': 3, 'spatial_shape': 20}),\n",
      "                 'num_blocks': 7,\n",
      "                 'sem2ins_classes': [],\n",
      "                 'semantic_classes': 15,\n",
      "                 'semantic_only': False,\n",
      "                 'semantic_weight': [   1.0,\n",
      "                                        1.0,\n",
      "                                        44.0,\n",
      "                                        21.9,\n",
      "                                        1.8,\n",
      "                                        25.1,\n",
      "                                        31.5,\n",
      "                                        21.8,\n",
      "                                        24.0,\n",
      "                                        54.4,\n",
      "                                        114.4,\n",
      "                                        81.2,\n",
      "                                        43.6,\n",
      "                                        9.7,\n",
      "                                        22.4],\n",
      "                 'test_cfg': {   'cls_score_thr': 0.001,\n",
      "                                 'mask_score_thr': -0.5,\n",
      "                                 'min_npoint': 15,\n",
      "                                 'x4_split': False},\n",
      "                 'train_cfg': {   'match_low_quality': True,\n",
      "                                  'max_proposal_num': 300,\n",
      "                                  'min_pos_thr': 0.1,\n",
      "                                  'pos_iou_thr': 0.5},\n",
      "                 'with_coords': False},\n",
      "    'optimizer': Munch({'type': 'Adam', 'lr': 0.004}),\n",
      "    'pretrain': './work_dirs/softgroup_stpls3d_backbone/latest.pth',\n",
      "    'save_cfg': Munch({'semantic': True, 'offset': True, 'instance': True}),\n",
      "    'save_freq': 4,\n",
      "    'step_epoch': 20,\n",
      "    'work_dir': ''}\n"
     ]
    }
   ],
   "source": [
    "pp = pprint.PrettyPrinter(indent=4)\n",
    "cfg['model'] = \n",
    "pp.pprint(cfg)"
   ]
  },
  {
   "cell_type": "code",
   "execution_count": 15,
   "id": "1861713c",
   "metadata": {},
   "outputs": [
    {
     "data": {
      "text/plain": [
       "Munch({'DATA': Munch({'aspp': False, 'batch_size': 12, 'class_weight': [1.0, 1.32, 461.37, 227.82, 2.77, 35.72, 45.71, 240.6, 250.08, 586.01, 173.87, 121.48, 452.91, 101.38, 30.0], 'classes': 15, 'data_root': 'dataset', 'dataset': 'Synthetic_v3_InstanceSegmentation', 'diceloss': False, 'filename_suffix': '_inst_nostuff.pth', 'full_scale': [128, 512], 'ignore_label': -100, 'input_channel': 3, 'max_npoint': 250000, 'mode': 4, 'scale': 3, 'test_dataset': 'val_seg', 'train_dataset': 'train_seg_50x25/train', 'val_dataset': 'train_seg_50x25/val'}), 'GENERAL': Munch({'dataset_dir': 'stpls3d_inst.py', 'manual_seed': 123, 'model_dir': 'model/', 'task': 'train'}), 'STRUCTURE': Munch({'block_reps': 2, 'block_residual': True, 'model_name': 'Unet_diceloss', 'use_coords': True, 'width': 16}), 'TEST': Munch({'TEST_NMS_THRESH': 0.3, 'TEST_NPOINT_THRESH': 15, 'TEST_SCORE_THRESH': 0.09, 'eval': True, 'save_instance': False, 'save_pt_offsets': False, 'save_semantic': False, 'split': 'val', 'test_epoch': 500, 'test_mask_score_thre': -0.5, 'test_seed': 567, 'test_workers': 10, 'using_NMS': False}), 'TRAIN': Munch({'bg_thresh': 0.0, 'cal_iou_based_on_mask': True, 'cal_iou_based_on_mask_start_epoch': 200, 'cluster_shift_meanActive': 3, 'epochs': 100, 'fg_thresh': 1.0, 'fix_module': [], 'loss_weight': [1.0, 1.0, 1.0, 1.0], 'lr': 0.001, 'mask_filter_score_feature_thre': 0.5, 'max_proposal_num': 200, 'momentum': 0.9, 'multiplier': 0.5, 'optim': 'Adam', 'point_aggr_radius': 0.9, 'prepare_epochs': 100, 'pretrain_module': [], 'pretrain_path': None, 'save_freq': 16, 'score_fullscale': 20, 'score_mode': 4, 'score_scale': 3, 'step_epoch': 200, 'train_workers': 6, 'use_mask_filter_score_feature': True, 'use_mask_filter_score_feature_start_epoch': 200, 'using_set_aggr_in_testing': True, 'using_set_aggr_in_training': False, 'weight_decay': 0.0001})})"
      ]
     },
     "execution_count": 15,
     "metadata": {},
     "output_type": "execute_result"
    }
   ],
   "source": [
    "cfg"
   ]
  },
  {
   "cell_type": "code",
   "execution_count": null,
   "id": "fffd841e",
   "metadata": {},
   "outputs": [],
   "source": []
  }
 ],
 "metadata": {
  "kernelspec": {
   "display_name": "Python 3 (ipykernel)",
   "language": "python",
   "name": "python3"
  },
  "language_info": {
   "codemirror_mode": {
    "name": "ipython",
    "version": 3
   },
   "file_extension": ".py",
   "mimetype": "text/x-python",
   "name": "python",
   "nbconvert_exporter": "python",
   "pygments_lexer": "ipython3",
   "version": "3.8.12"
  }
 },
 "nbformat": 4,
 "nbformat_minor": 5
}
